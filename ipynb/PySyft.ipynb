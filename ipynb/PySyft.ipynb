{
 "cells": [
  {
   "cell_type": "code",
   "execution_count": null,
   "metadata": {},
   "outputs": [],
   "source": [
    "import sys\n",
    "sys.path.insert(0,'..')\n",
    "import logging\n",
    "import random\n",
    "import neptune\n",
    "import numpy as np\n",
    "from time import strftime\n",
    "from federated_learning.FederatedLearning import FederatedLearning\n",
    "from federated_learning.helper import utils\n",
    "arguments = docopt(__doc__)\n",
    "CONFIG_PATH = 'configs/defaults.yml'\n",
    "MNIST_PATH = \"/home/ubuntu/data/MNIST\"\n",
    "MNIST_PATH = \"/home/ubuntu/data/MNIST/\"\n",
    "CONFIG_PATH = '../configs/defaults.yml'\n",
    "\n",
    "configs = utils.load_config(CONFIG_PATH)\n",
    "arguments = dict()\n",
    "arguments['--reg'] = 0.0\n",
    "arguments['--output-prefix'] = \"test_\"\n",
    "neptune_enable = False\n",
    "log_enable = False\n",
    "\n",
    "fl = FederatedLearning(\n",
    "        configs['runtime']['batch_size'], \n",
    "        configs['runtime']['test_batch_size'], \n",
    "        configs['runtime']['lr'], \n",
    "        float(arguments['--reg']) if arguments['--reg'] is not None else 0.0,\n",
    "        configs['runtime']['momentum'], \n",
    "        neptune_enable, log_enable, \n",
    "        configs['log']['interval'], \n",
    "        configs['log']['level'], \n",
    "        configs['log']['output_dir'], \n",
    "        arguments['--output-prefix'], \n",
    "        configs['runtime']['random_seed'], \n",
    "        configs['runtime']['save_model'])"
   ]
  },
  {
   "cell_type": "code",
   "execution_count": null,
   "metadata": {},
   "outputs": [],
   "source": [
    "fl.create_server()\n",
    "fl.create_server_model()\n",
    "    \n",
    "train_data = utils.preprocess_mnist(\n",
    "    utils.load_mnist_data_train(MNIST_PATH))\n",
    "train_dataloader = utils.get_mnist_dataloader(\n",
    "    train_data, configs['runtime']['batch_size'])\n",
    "\n",
    "test_data = utils.load_mnist_data_test(MNIST_PATH)\n",
    "test_dataloader = utils.get_mnist_dataloader(\n",
    "    test_data, configs['runtime']['test_batch_size'])\n",
    "\n",
    "server_dataset = utils.get_server_dataloader(\n",
    "        train_dataloader, configs['runtime']['public_data_percentage'])\n",
    "\n",
    "federated_server_dataloader = fl.create_federated_mnist(\n",
    "    server_dataset, [\"server\"], configs['runtime']['batch_size'], shuffle=False)"
   ]
  },
  {
   "cell_type": "code",
   "execution_count": null,
   "metadata": {},
   "outputs": [],
   "source": [
    "batch_idx, (data, target) = next(enumerate(federated_server_dataloader))"
   ]
  },
  {
   "cell_type": "code",
   "execution_count": null,
   "metadata": {},
   "outputs": [],
   "source": [
    "target.get()"
   ]
  },
  {
   "cell_type": "code",
   "execution_count": null,
   "metadata": {},
   "outputs": [],
   "source": [
    "from datetime import datetime\n",
    "import time\n",
    "time.strftime(\"%Y%m%d_%H%M%S\")"
   ]
  },
  {
   "cell_type": "code",
   "execution_count": null,
   "metadata": {},
   "outputs": [],
   "source": [
    "import os"
   ]
  },
  {
   "cell_type": "code",
   "execution_count": null,
   "metadata": {},
   "outputs": [],
   "source": [
    "os.mkdir(\"../data_output/ehsan1/\")"
   ]
  }
 ],
 "metadata": {
  "kernelspec": {
   "display_name": "Python 3",
   "language": "python",
   "name": "python3"
  },
  "language_info": {
   "codemirror_mode": {
    "name": "ipython",
    "version": 3
   },
   "file_extension": ".py",
   "mimetype": "text/x-python",
   "name": "python",
   "nbconvert_exporter": "python",
   "pygments_lexer": "ipython3",
   "version": "3.6.9"
  }
 },
 "nbformat": 4,
 "nbformat_minor": 4
}
