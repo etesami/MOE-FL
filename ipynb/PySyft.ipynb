{
 "cells": [
  {
   "cell_type": "code",
   "execution_count": 1,
   "metadata": {},
   "outputs": [
    {
     "name": "stderr",
     "output_type": "stream",
     "text": [
      "Falling back to insecure randomness since the required custom op could not be found for the installed version of TensorFlow. Fix this by compiling custom ops. Missing file was '/home/ubuntu/.local/lib/python3.6/site-packages/tf_encrypted/operations/secure_random/secure_random_module_tf_1.15.3.so'\n"
     ]
    },
    {
     "name": "stdout",
     "output_type": "stream",
     "text": [
      "WARNING:tensorflow:From /home/ubuntu/.local/lib/python3.6/site-packages/tf_encrypted/session.py:24: The name tf.Session is deprecated. Please use tf.compat.v1.Session instead.\n",
      "\n"
     ]
    },
    {
     "name": "stderr",
     "output_type": "stream",
     "text": [
      "2020-11-08 22:49:37,879 Initializing Federated Learning class...\n",
      "2020-11-08 22:49:38,642 Creating the server...\n",
      "2020-11-08 22:49:38,643 Creating a model for the server...\n",
      "2020-11-08 22:49:38,653 Creating workers...\n",
      "2020-11-08 22:49:38,656 Creating a model for 30 worker(s)...\n"
     ]
    }
   ],
   "source": [
    "import sys\n",
    "sys.path.append(\"..\")\n",
    "import logging\n",
    "import random\n",
    "import neptune\n",
    "import numpy as np\n",
    "import syft as sy\n",
    "from torch import load\n",
    "from torchvision import transforms\n",
    "from federated_learning.FLCustomDataset import FLCustomDataset\n",
    "from federated_learning.FederatedLearning import FederatedLearning\n",
    "from federated_learning.helper import utils\n",
    "# arguments = docopt(__doc__)\n",
    "CONFIG_PATH = '../configs/defaults.yml'\n",
    "\n",
    "arguments = dict()\n",
    "arguments['--reg'] = 0.0\n",
    "arguments['--output-prefix'] = \"mnist_no_attack\"\n",
    "arguments['--server_model'] = \"data_output/20201107_030649_mnist_w0/server_model_9\"\n",
    "arguments[\"--epoch\"] = 1\n",
    "arguments[\"--round\"] = 1\n",
    "output_dir = None\n",
    "log_enable = False\n",
    "neptune_enable = False\n",
    "\n",
    "\n",
    "configs = utils.load_config(CONFIG_PATH)\n",
    "logging.basicConfig(format='%(asctime)s %(message)s', level=configs['log']['level'])\n",
    "random.seed(configs['runtime']['random_seed'])\n",
    "\n",
    "# From command line\n",
    "epochs_num = int(arguments[\"--epoch\"])\n",
    "rounds_num = int(arguments[\"--round\"])\n",
    "\n",
    "train_workers_num = configs['runtime']['train_workers_num']\n",
    "\n",
    "fl = FederatedLearning(\n",
    "    configs['runtime']['batch_size'], \n",
    "    configs['runtime']['test_batch_size'], \n",
    "    configs['runtime']['lr'], \n",
    "    float(arguments['--reg']) if arguments['--reg'] is not None else 0.0,\n",
    "    configs['runtime']['momentum'], \n",
    "    neptune_enable, log_enable, \n",
    "    configs['log']['interval'], \n",
    "    output_dir, \n",
    "    configs['runtime']['random_seed'])\n",
    "\n",
    "fl.create_server()\n",
    "fl.create_server_model()\n",
    "workers_idx = [\"worker_\" + str(i) for i in range(configs['runtime']['mnist_workers_num'])]\n",
    "fl.create_workers(workers_idx)\n",
    "fl.create_workers_model(workers_idx)"
   ]
  },
  {
   "cell_type": "code",
   "execution_count": 2,
   "metadata": {},
   "outputs": [
    {
     "name": "stderr",
     "output_type": "stream",
     "text": [
      "2020-11-08 22:49:41,566 Loading 100% of train data from MNIST dataset.\n",
      "2020-11-08 22:49:41,830 Preparing the MNIST dataset.\n",
      "2020-11-08 22:49:42,011 Creating MNIST dataset.\n",
      "2020-11-08 22:49:42,012 Creating MNIST data loader.\n",
      "2020-11-08 22:49:42,014 Loading test data from MNIST dataset.\n",
      "2020-11-08 22:49:42,039 Creating MNIST dataset.\n",
      "2020-11-08 22:49:42,041 Creating MNIST data loader.\n",
      "2020-11-08 22:49:42,042 Creating server MNIST data loader.\n",
      "2020-11-08 22:49:42,057 0.00% Loaded...\n",
      "2020-11-08 22:49:42,641 8.33% Loaded...\n",
      "2020-11-08 22:49:43,279 16.67% Loaded...\n",
      "2020-11-08 22:49:44,378 25.00% Loaded...\n",
      "2020-11-08 22:49:46,003 33.33% Loaded...\n",
      "2020-11-08 22:49:47,970 41.67% Loaded...\n",
      "2020-11-08 22:49:50,220 50.00% Loaded...\n",
      "2020-11-08 22:49:52,928 58.33% Loaded...\n",
      "2020-11-08 22:49:56,152 66.67% Loaded...\n",
      "2020-11-08 22:49:59,819 75.00% Loaded...\n",
      "2020-11-08 22:50:03,859 83.33% Loaded...\n",
      "2020-11-08 22:50:08,322 91.67% Loaded...\n",
      "2020-11-08 22:50:13,195 Scanning and sending data to server...\n"
     ]
    }
   ],
   "source": [
    "train_raw_dataset = utils.preprocess_mnist(\n",
    "    utils.load_mnist_data_train(\n",
    "        configs['data']['MNIST_PATH'], \n",
    "        configs['runtime']['mnist_data_percentage']))\n",
    "train_dataset = utils.get_mnist_dataset(train_raw_dataset)\n",
    "train_dataloader = utils.get_mnist_dataloader(\n",
    "    train_dataset, configs['runtime']['batch_size'], shuffle=True)\n",
    "\n",
    "test_data = utils.load_mnist_data_test(configs['data']['MNIST_PATH'])\n",
    "test_dataset = utils.get_mnist_dataset(test_data)\n",
    "test_dataloader = utils.get_mnist_dataloader(\n",
    "    test_dataset, configs['runtime']['test_batch_size'], shuffle=True)\n",
    "\n",
    "server_dataset = utils.get_server_dataset(\n",
    "    train_dataloader, configs['runtime']['public_data_percentage'])\n",
    "federated_server_dataloader = fl.create_federated_mnist(\n",
    "    server_dataset, [\"server\"], configs['runtime']['batch_size'], shuffle=False)"
   ]
  },
  {
   "cell_type": "code",
   "execution_count": null,
   "metadata": {},
   "outputs": [],
   "source": [
    "len(train_raw_dataset['x'])"
   ]
  },
  {
   "cell_type": "code",
   "execution_count": null,
   "metadata": {},
   "outputs": [],
   "source": [
    "len(train_raw_dataset['x'][:int((30/100)* len(train_raw_dataset['x']))])"
   ]
  },
  {
   "cell_type": "code",
   "execution_count": null,
   "metadata": {},
   "outputs": [],
   "source": [
    "for id_, (data, target) in enumerate(test_dataloader):\n",
    "    print(id_, data.shape, target.shape)\n",
    "    break"
   ]
  },
  {
   "cell_type": "code",
   "execution_count": null,
   "metadata": {},
   "outputs": [],
   "source": [
    "dir(test_dataloader)"
   ]
  },
  {
   "cell_type": "code",
   "execution_count": null,
   "metadata": {},
   "outputs": [],
   "source": [
    "id, (data, target) = next(enumerate(test_dataloader))"
   ]
  },
  {
   "cell_type": "code",
   "execution_count": null,
   "metadata": {},
   "outputs": [],
   "source": [
    "batch_idx, (data, target) = next(enumerate(federated_server_dataloader))"
   ]
  },
  {
   "cell_type": "code",
   "execution_count": null,
   "metadata": {},
   "outputs": [],
   "source": [
    "target.get()"
   ]
  },
  {
   "cell_type": "code",
   "execution_count": null,
   "metadata": {},
   "outputs": [],
   "source": [
    "from datetime import datetime\n",
    "import time\n",
    "time.strftime(\"%Y%m%d_%H%M%S\")"
   ]
  },
  {
   "cell_type": "code",
   "execution_count": null,
   "metadata": {},
   "outputs": [],
   "source": [
    "import os"
   ]
  },
  {
   "cell_type": "code",
   "execution_count": null,
   "metadata": {},
   "outputs": [],
   "source": [
    "os.mkdir(\"../data_output/ehsan1/\")"
   ]
  }
 ],
 "metadata": {
  "kernelspec": {
   "display_name": "Python 3",
   "language": "python",
   "name": "python3"
  },
  "language_info": {
   "codemirror_mode": {
    "name": "ipython",
    "version": 3
   },
   "file_extension": ".py",
   "mimetype": "text/x-python",
   "name": "python",
   "nbconvert_exporter": "python",
   "pygments_lexer": "ipython3",
   "version": "3.6.9"
  }
 },
 "nbformat": 4,
 "nbformat_minor": 4
}
