{
 "cells": [
  {
   "cell_type": "code",
   "execution_count": 1,
   "metadata": {
    "scrolled": true
   },
   "outputs": [
    {
     "name": "stderr",
     "output_type": "stream",
     "text": [
      "Falling back to insecure randomness since the required custom op could not be found for the installed version of TensorFlow. Fix this by compiling custom ops. Missing file was '/home/ubuntu/.local/lib/python3.6/site-packages/tf_encrypted/operations/secure_random/secure_random_module_tf_1.15.3.so'\n"
     ]
    },
    {
     "name": "stdout",
     "output_type": "stream",
     "text": [
      "WARNING:tensorflow:From /home/ubuntu/.local/lib/python3.6/site-packages/tf_encrypted/session.py:24: The name tf.Session is deprecated. Please use tf.compat.v1.Session instead.\n",
      "\n"
     ]
    },
    {
     "name": "stderr",
     "output_type": "stream",
     "text": [
      "2020-12-01 13:04:46,955 Initializing Federated Learning class...\n",
      "2020-12-01 13:04:47,923 Creating the server...\n",
      "2020-12-01 13:04:47,925 Creating a model for the server...\n",
      "2020-12-01 13:04:47,937 Trusted: ['worker_26', 'worker_0', 'worker_19', 'worker_23', 'worker_12', 'worker_17', 'worker_36', 'worker_27', 'worker_10', 'worker_7']\n",
      "2020-12-01 13:04:47,938 Eavesdroppers: ['worker_16', 'worker_35', 'worker_11', 'worker_39', 'worker_22']\n",
      "2020-12-01 13:04:47,939 Normal: ['worker_5', 'worker_33', 'worker_37', 'worker_32', 'worker_9', 'worker_13', 'worker_4', 'worker_21', 'worker_20', 'worker_1', 'worker_29', 'worker_18', 'worker_6', 'worker_24', 'worker_14', 'worker_38', 'worker_2', 'worker_31', 'worker_8', 'worker_34', 'worker_3', 'worker_28', 'worker_30', 'worker_25', 'worker_15']\n",
      "2020-12-01 13:04:47,940 Creating workers...\n",
      "2020-12-01 13:04:47,944 Creating a model for 40 worker(s)...\n",
      "2020-12-01 13:04:48,247 Loading 30% of train data from MNIST dataset.\n",
      "2020-12-01 13:04:48,489 Preparing the MNIST dataset.\n",
      "2020-12-01 13:04:48,529 Creating MNIST dataset.\n",
      "2020-12-01 13:04:48,624 Loading test data from MNIST dataset.\n",
      "2020-12-01 13:04:48,667 Creating MNIST dataset.\n",
      "2020-12-01 13:04:48,720 Creating data loader.\n"
     ]
    }
   ],
   "source": [
    "import sys\n",
    "sys.path.append(\"..\")\n",
    "\n",
    "import logging\n",
    "import random\n",
    "import neptune\n",
    "import numpy as np\n",
    "import syft as sy\n",
    "import torch\n",
    "\n",
    "from torchvision import transforms\n",
    "from federated_learning.FLCustomDataset import FLCustomDataset\n",
    "from federated_learning.FederatedLearning import FederatedLearning\n",
    "from federated_learning.helper import utils\n",
    "\n",
    "CONFIG_PATH = '../configs/defaults.yml'\n",
    "configs = utils.load_config(CONFIG_PATH)\n",
    "arguments = dict()\n",
    "arguments['--reg'] = 0.0\n",
    "arguments['--output-prefix'] = \"mnist_no_attack\"\n",
    "arguments['--server_model'] = \"data_output/20201107_030649_mnist_w0/server_model_9\"\n",
    "arguments[\"--epoch\"] = 1\n",
    "arguments[\"--round\"] = 1\n",
    "output_dir = None\n",
    "log_enable = False\n",
    "neptune_enable = False\n",
    "\n",
    "\n",
    "configs = utils.load_config(CONFIG_PATH)\n",
    "logging.basicConfig(format='%(asctime)s %(message)s', level=configs['log']['level'])\n",
    "random.seed(configs['runtime']['random_seed'])\n",
    "\n",
    "# From command line\n",
    "epochs_num = int(arguments[\"--epoch\"])\n",
    "rounds_num = int(arguments[\"--round\"])\n",
    "\n",
    "\n",
    "fl = FederatedLearning(\n",
    "    configs['runtime']['batch_size'], \n",
    "    configs['runtime']['test_batch_size'], \n",
    "    configs['runtime']['lr'], \n",
    "    float(arguments['--reg']) if arguments['--reg'] is not None else 0.0,\n",
    "    configs['runtime']['momentum'], \n",
    "    neptune_enable, log_enable, \n",
    "    configs['log']['interval'], \n",
    "    output_dir, \n",
    "    configs['runtime']['random_seed'])\n",
    "\n",
    "total_num_workers = \\\n",
    "    configs['runtime']['mnist_normal_users_num'] + \\\n",
    "    configs['runtime']['mnist_eavesdropper_num'] + \\\n",
    "    configs['runtime']['mnist_trusted_users_num']\n",
    "\n",
    "workers_idx = [\"worker_\" + str(i) for i in range(total_num_workers)]\n",
    "\n",
    "fl.create_server()\n",
    "fl.create_server_model()\n",
    "\n",
    "trusted_idx = utils.get_workers_idx(\n",
    "    range(total_num_workers), configs['runtime']['mnist_trusted_users_num'], [])\n",
    "eavesdroppers_idx = utils.get_workers_idx(\n",
    "    range(total_num_workers), configs['runtime']['mnist_eavesdropper_num'], trusted_idx)\n",
    "normal_idx = utils.get_workers_idx(\n",
    "    range(total_num_workers), configs['runtime']['mnist_normal_users_num'], trusted_idx + eavesdroppers_idx)\n",
    "\n",
    "trusted_idx = [workers_idx[ii] for ii in trusted_idx]\n",
    "eavesdroppers_idx = [workers_idx[ii] for ii in eavesdroppers_idx]\n",
    "normal_idx = [workers_idx[ii] for ii in normal_idx]\n",
    "\n",
    "logging.info(\"Trusted: {}\".format(trusted_idx))\n",
    "logging.info(\"Eavesdroppers: {}\".format(eavesdroppers_idx))\n",
    "logging.info(\"Normal: {}\".format(normal_idx))\n",
    "\n",
    "fl.create_workers(workers_idx)\n",
    "fl.create_workers_model(workers_idx)\n",
    "\n",
    "train_raw_dataset = utils.preprocess_mnist(\n",
    "    utils.load_mnist_data_train(\n",
    "        configs['data']['MNIST_PATH'], \n",
    "        configs['runtime']['mnist_data_percentage']))\n",
    "train_dataset = utils.get_mnist_dataset(train_raw_dataset)\n",
    "\n",
    "test_data = utils.load_mnist_data_test(configs['data']['MNIST_PATH'])\n",
    "test_dataset = utils.get_mnist_dataset(test_data)\n",
    "test_dataloader = utils.get_dataloader(\n",
    "    test_dataset, configs['runtime']['test_batch_size'], shuffle=True, drop_last=False)\n",
    "\n",
    "# federated_train_dataloader = None\n",
    "# arguments[\"--no-attack\"] = False\n",
    "# arguments[\"--attack\"] = 1\n",
    "# if arguments[\"--no-attack\"]:\n",
    "#     logging.info(\"No Attack will be performed.\")\n",
    "#     federated_train_dataloader = fl.create_federated_mnist(\n",
    "#         train_dataset, workers_idx, configs['runtime']['batch_size'], shuffle=False)\n",
    "# else:\n",
    "#     logging.info(\"Perform attack type: {}\".format(arguments[\"--attack\"]))\n",
    "#     federated_train_dataloader = fl.create_federated_mnist(\n",
    "#         utils.perfrom_attack(\n",
    "#             train_dataset, \n",
    "#             int(arguments[\"--attack\"]), \n",
    "#             workers_idx, \n",
    "#             eavesdroppers_idx, \n",
    "#             100), \n",
    "#         workers_idx, configs['runtime']['batch_size'], shuffle=False)"
   ]
  },
  {
   "cell_type": "code",
   "execution_count": 6,
   "metadata": {},
   "outputs": [],
   "source": [
    "weights = fl.normalize_weights(workers_idx)"
   ]
  },
  {
   "cell_type": "code",
   "execution_count": 10,
   "metadata": {},
   "outputs": [
    {
     "data": {
      "text/plain": [
       "8"
      ]
     },
     "execution_count": 10,
     "metadata": {},
     "output_type": "execute_result"
    }
   ],
   "source": [
    "len(weights)"
   ]
  },
  {
   "cell_type": "code",
   "execution_count": 12,
   "metadata": {},
   "outputs": [
    {
     "data": {
      "text/plain": [
       "(500, 40)"
      ]
     },
     "execution_count": 12,
     "metadata": {},
     "output_type": "execute_result"
    }
   ],
   "source": [
    "weights[0].shape"
   ]
  },
  {
   "cell_type": "code",
   "execution_count": null,
   "metadata": {},
   "outputs": [],
   "source": [
    "avg_matrix (500,1)\n",
    "W (30 x 1)\n",
    "\n",
    "(500 x 30) (500 x 1)->(500 x 30)\n",
    "=> (500 x 30)\n",
    "norm(500 x 30) -> (1 x 30) * (30 x 1) => (1)\n",
    "\n",
    "8 Layers\n",
    "Minmize (sum (1))"
   ]
  },
  {
   "cell_type": "code",
   "execution_count": 9,
   "metadata": {},
   "outputs": [
    {
     "name": "stdout",
     "output_type": "stream",
     "text": [
      "8\n",
      "Mean\t0.5044988471787226\n",
      "Max\t1.0\n",
      "Min\t0.0\n",
      "STD\t0.2900008679408596\n"
     ]
    }
   ],
   "source": [
    "print(len(weights))\n",
    "print(\"Mean\\t{}\".format(weights[0].mean()))\n",
    "print(\"Max\\t{}\".format(weights[0].max()))\n",
    "print(\"Min\\t{}\".format(weights[0].min()))\n",
    "print(\"STD\\t{}\".format(weights[0].std()))"
   ]
  }
 ],
 "metadata": {
  "kernelspec": {
   "display_name": "Python 3",
   "language": "python",
   "name": "python3"
  },
  "language_info": {
   "codemirror_mode": {
    "name": "ipython",
    "version": 3
   },
   "file_extension": ".py",
   "mimetype": "text/x-python",
   "name": "python",
   "nbconvert_exporter": "python",
   "pygments_lexer": "ipython3",
   "version": "3.6.9"
  }
 },
 "nbformat": 4,
 "nbformat_minor": 4
}
