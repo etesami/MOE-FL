{
 "cells": [
  {
   "cell_type": "code",
   "execution_count": 1,
   "metadata": {},
   "outputs": [
    {
     "name": "stderr",
     "output_type": "stream",
     "text": [
      "Falling back to insecure randomness since the required custom op could not be found for the installed version of TensorFlow. Fix this by compiling custom ops. Missing file was '/home/ubuntu/.local/lib/python3.6/site-packages/tf_encrypted/operations/secure_random/secure_random_module_tf_1.15.3.so'\n"
     ]
    },
    {
     "name": "stdout",
     "output_type": "stream",
     "text": [
      "WARNING:tensorflow:From /home/ubuntu/.local/lib/python3.6/site-packages/tf_encrypted/session.py:24: The name tf.Session is deprecated. Please use tf.compat.v1.Session instead.\n",
      "\n"
     ]
    }
   ],
   "source": [
    "import sys\n",
    "sys.path.append(\"..\")\n",
    "import logging\n",
    "import random\n",
    "import neptune\n",
    "import numpy as np\n",
    "import syft as sy\n",
    "from torch import load\n",
    "from torchvision import transforms\n",
    "from federated_learning.FLCustomDataset import FLCustomDataset\n",
    "from federated_learning.FederatedLearning import FederatedLearning\n",
    "from federated_learning.helper import utils\n",
    "\n",
    "CONFIG_PATH = '../configs/defaults.yml'"
   ]
  },
  {
   "cell_type": "code",
   "execution_count": 2,
   "metadata": {},
   "outputs": [
    {
     "name": "stderr",
     "output_type": "stream",
     "text": [
      "2020-11-09 00:59:05,820 Initializing Federated Learning class...\n",
      "2020-11-09 00:59:06,861 Loading test data from MNIST dataset.\n",
      "2020-11-09 00:59:06,914 Creating MNIST dataset.\n",
      "2020-11-09 00:59:06,915 Creating MNIST data loader.\n"
     ]
    }
   ],
   "source": [
    "arguments = dict()\n",
    "arguments['--reg'] = 0.0\n",
    "arguments['--output-prefix'] = \"mnist_no_attack\"\n",
    "arguments['--server_model'] = \"data_output/20201108_225254_mnist_w0/models/server_model_49\"\n",
    "arguments['--local-log'] = \"False\"\n",
    "arguments['--neptune-log'] = \"False\"\n",
    "configs = utils.load_config(CONFIG_PATH)\n",
    "logging.basicConfig(format='%(asctime)s %(message)s', level=configs['log']['level'])\n",
    "random.seed(configs['runtime']['random_seed'])\n",
    "\n",
    "# From command line\n",
    "epochs_num = 1\n",
    "rounds_num = 1\n",
    "\n",
    "log_enable = True if arguments['--local-log'] == \"True\" or \\\n",
    "    arguments['--local-log'] == \"true\" else False\n",
    "\n",
    "output_dir = None\n",
    "if log_enable:\n",
    "    output_dir = utils.make_output_dir(\n",
    "        configs['log']['root_output_dir'], arguments['--output-prefix'])\n",
    "\n",
    "neptune_enable = True if arguments['--neptune-log'] == \"True\" or \\\n",
    "    arguments['--neptune-log'] == \"true\" else False\n",
    "\n",
    "fl = FederatedLearning(\n",
    "    configs['runtime']['batch_size'], \n",
    "    configs['runtime']['test_batch_size'], \n",
    "    configs['runtime']['lr'], \n",
    "    float(arguments['--reg']) if arguments['--reg'] is not None else 0.0,\n",
    "    configs['runtime']['momentum'], \n",
    "    neptune_enable, log_enable, \n",
    "    configs['log']['interval'], \n",
    "    output_dir, \n",
    "    configs['runtime']['random_seed'])\n",
    "\n",
    "test_data = utils.load_mnist_data_test(configs['data']['MNIST_PATH'])\n",
    "test_dataset = utils.get_mnist_dataset(test_data)\n",
    "test_dataloader = utils.get_mnist_dataloader(\n",
    "    test_dataset, configs['runtime']['test_batch_size'], shuffle=True)"
   ]
  },
  {
   "cell_type": "code",
   "execution_count": 3,
   "metadata": {},
   "outputs": [
    {
     "name": "stderr",
     "output_type": "stream",
     "text": [
      "2020-11-09 01:00:00,730 Test Average loss: 26.7556, Accuracy: 9761/10000 (98%)\n",
      "\n"
     ]
    },
    {
     "data": {
      "text/plain": [
       "97.61"
      ]
     },
     "execution_count": 3,
     "metadata": {},
     "output_type": "execute_result"
    }
   ],
   "source": [
    "server_model = load(\"../data_output/20201108_225254_mnist_w0/models/server_model_49\")\n",
    "fl.test(server_model, test_dataloader, 1)"
   ]
  }
 ],
 "metadata": {
  "kernelspec": {
   "display_name": "Python 3",
   "language": "python",
   "name": "python3"
  },
  "language_info": {
   "codemirror_mode": {
    "name": "ipython",
    "version": 3
   },
   "file_extension": ".py",
   "mimetype": "text/x-python",
   "name": "python",
   "nbconvert_exporter": "python",
   "pygments_lexer": "ipython3",
   "version": "3.6.9"
  }
 },
 "nbformat": 4,
 "nbformat_minor": 4
}
