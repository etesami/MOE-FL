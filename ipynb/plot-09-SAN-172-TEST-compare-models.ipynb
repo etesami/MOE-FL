{
 "cells": [
  {
   "cell_type": "code",
   "execution_count": 9,
   "metadata": {
    "scrolled": false
   },
   "outputs": [
    {
     "name": "stdout",
     "output_type": "stream",
     "text": [
      "0: 0.0\n",
      "1: 0.0\n",
      "2: 0.0\n",
      "3: 0.0\n",
      "4: 0.0\n",
      "5: 0.0\n",
      "6: 0.0\n",
      "7: 0.0\n"
     ]
    }
   ],
   "source": [
    "import torch\n",
    "import sys\n",
    "sys.path.append(\"..\")\n",
    "import numpy as np\n",
    "import matplotlib.pyplot as plt\n",
    "\n",
    "\n",
    "file_path = \"../data_output/20201202_200140_mnist_opt_w0_eav15_SAN_172\"\n",
    "model_worker_20 = torch.load(\"{}/models/R0_worker_21\".format(file_path))\n",
    "model_weighted_avg = torch.load(\"{}/models/R0_weighted_avg_model\".format(file_path))\n",
    "\n",
    "difference = []\n",
    "for param_name in model_weighted_avg.state_dict():\n",
    "    a = model_weighted_avg.state_dict()[param_name]\n",
    "    b = model_worker_20.state_dict()[param_name]\n",
    "    difference.append((a-b).mean())\n",
    "\n",
    "for ii in range(len(difference)):\n",
    "    print(\"{}: {}\".format(ii, difference[ii]))\n",
    "    \n",
    "\n"
   ]
  },
  {
   "cell_type": "code",
   "execution_count": null,
   "metadata": {},
   "outputs": [],
   "source": []
  }
 ],
 "metadata": {
  "kernelspec": {
   "display_name": "Python 3",
   "language": "python",
   "name": "python3"
  },
  "language_info": {
   "codemirror_mode": {
    "name": "ipython",
    "version": 3
   },
   "file_extension": ".py",
   "mimetype": "text/x-python",
   "name": "python",
   "nbconvert_exporter": "python",
   "pygments_lexer": "ipython3",
   "version": "3.6.9"
  }
 },
 "nbformat": 4,
 "nbformat_minor": 4
}
