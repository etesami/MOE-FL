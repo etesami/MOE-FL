{
 "cells": [
  {
   "cell_type": "markdown",
   "id": "tender-minute",
   "metadata": {},
   "source": [
    "# Memory Consumption in Python"
   ]
  },
  {
   "cell_type": "markdown",
   "id": "outstanding-bouquet",
   "metadata": {},
   "source": [
    "There are two approaches mainly used for calculating the memory consumption:"
   ]
  },
  {
   "cell_type": "code",
   "execution_count": 1,
   "id": "stainless-platinum",
   "metadata": {},
   "outputs": [],
   "source": [
    "from pympler.tracker import SummaryTracker\n",
    "import linecache\n",
    "\n",
    "import tracemalloc"
   ]
  },
  {
   "cell_type": "markdown",
   "id": "incomplete-ready",
   "metadata": {},
   "source": [
    "Define a helper function to reduce unnecessary information:"
   ]
  },
  {
   "cell_type": "code",
   "execution_count": 2,
   "id": "noticed-horizon",
   "metadata": {},
   "outputs": [],
   "source": [
    "def display_top(snapshot, key_type='lineno', limit=10):\n",
    "    snapshot = snapshot.filter_traces((\n",
    "        tracemalloc.Filter(False, \"<frozen importlib._bootstrap>\"),\n",
    "        tracemalloc.Filter(False, \"<unknown>\"),\n",
    "    ))\n",
    "    top_stats = snapshot.statistics(key_type)\n",
    "\n",
    "    print(\"Top %s lines\" % limit)\n",
    "    for index, stat in enumerate(top_stats[:limit], 1):\n",
    "        frame = stat.traceback[0]\n",
    "        print(\"#%s: %s:%s: %.1f KiB\"\n",
    "              % (index, frame.filename, frame.lineno, stat.size / 1024))\n",
    "        line = linecache.getline(frame.filename, frame.lineno).strip()\n",
    "        if line:\n",
    "            print('    %s' % line)\n",
    "\n",
    "    other = top_stats[limit:]\n",
    "    if other:\n",
    "        size = sum(stat.size for stat in other)\n",
    "        print(\"%s other: %.1f KiB\" % (len(other), size / 1024))\n",
    "    total = sum(stat.size for stat in top_stats)\n",
    "    print(\"Total allocated size: %.1f KiB\" % (total / 1024))"
   ]
  },
  {
   "cell_type": "code",
   "execution_count": 3,
   "id": "exposed-elimination",
   "metadata": {},
   "outputs": [
    {
     "name": "stdout",
     "output_type": "stream",
     "text": [
      "Memory Consumption (1):\n",
      "                           types |   # objects |   total size\n",
      "================================ | =========== | ============\n",
      "                            dict |           3 |      5.00 MB\n",
      "                            list |        9302 |    802.55 KB\n",
      "                             str |        9306 |    667.57 KB\n",
      "                             int |        2154 |     58.90 KB\n",
      "               method_descriptor |          13 |    936     B\n",
      "                            code |           2 |    422     B\n",
      "                         weakref |           2 |    144     B\n",
      "           function (store_info) |           1 |    136     B\n",
      "  function (_schedule_in_thread) |           1 |    136     B\n",
      "              wrapper_descriptor |           1 |     72     B\n",
      "               member_descriptor |           1 |     64     B\n",
      "                            cell |           1 |     40     B\n",
      "                  sqlite3.Cursor |          -1 |   -112     B\n",
      "                   list_iterator |          -3 |   -144     B\n",
      "      builtin_function_or_method |          -3 |   -216     B\n",
      "\n",
      "Memory Consumption (2):\n",
      "Top 10 lines\n",
      "#1: <ipython-input-3-8219bd8e78ac>:6: 5120.0 KiB\n",
      "    aa[jj] = jj\n",
      "#2: <ipython-input-3-8219bd8e78ac>:5: 2727.3 KiB\n",
      "    for jj in [ii for ii in range(100000)]:\n",
      "#3: /home/savi/ehsan/venv/lib/python3.8/site-packages/pympler/summary.py:129: 802.8 KiB\n",
      "    rows.append([otype, count[otype], total_size[otype]])\n",
      "#4: /home/savi/ehsan/venv/lib/python3.8/site-packages/pympler/summary.py:88: 566.9 KiB\n",
      "    lambda f: \"function (%s)\" % f.__name__,\n",
      "#5: /home/savi/ehsan/venv/lib/python3.8/site-packages/pympler/summary.py:97: 63.6 KiB\n",
      "    module = [lambda m: \"module(%s)\" % getattr(m, '__name__', getattr(m, '__file__', 'nameless, id: %d' % id(m)))]\n",
      "#6: /home/savi/ehsan/venv/lib/python3.8/site-packages/pympler/summary.py:123: 57.3 KiB\n",
      "    total_size[otype] += getsizeof(o)\n",
      "#7: /usr/lib/python3.8/sre_parse.py:1061: 34.3 KiB\n",
      "    literals[index] = g(group) or empty\n",
      "#8: /home/savi/ehsan/venv/lib/python3.8/site-packages/tornado/ioloop.py:863: 12.1 KiB\n",
      "    event_pairs = self._impl.poll(poll_timeout)\n",
      "#9: /usr/lib/python3.8/enum.py:368: 2.8 KiB\n",
      "    return \"<enum %r>\" % cls.__name__\n",
      "#10: /home/savi/ehsan/venv/lib/python3.8/site-packages/pympler/summary.py:230: 2.2 KiB\n",
      "    yield vdelim.join([justify(str(item), width)\n",
      "73 other: 22.4 KiB\n",
      "Total allocated size: 9411.7 KiB\n"
     ]
    }
   ],
   "source": [
    "tracker = SummaryTracker()\n",
    "tracemalloc.start()\n",
    "\n",
    "aa = dict()\n",
    "for jj in [ii for ii in range(100000)]:\n",
    "    aa[jj] = jj\n",
    "\n",
    "print(\"Memory Consumption (1):\")\n",
    "tracker.print_diff()\n",
    "\n",
    "print(\"\\nMemory Consumption (2):\")\n",
    "snapshot = tracemalloc.take_snapshot()\n",
    "display_top(snapshot)\n"
   ]
  }
 ],
 "metadata": {
  "kernelspec": {
   "display_name": "venv",
   "language": "python",
   "name": "venv"
  },
  "language_info": {
   "codemirror_mode": {
    "name": "ipython",
    "version": 3
   },
   "file_extension": ".py",
   "mimetype": "text/x-python",
   "name": "python",
   "nbconvert_exporter": "python",
   "pygments_lexer": "ipython3",
   "version": "3.8.5"
  }
 },
 "nbformat": 4,
 "nbformat_minor": 5
}
