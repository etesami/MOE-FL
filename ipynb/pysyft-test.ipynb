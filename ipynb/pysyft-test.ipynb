{
 "cells": [
  {
   "cell_type": "code",
   "execution_count": 1,
   "metadata": {
    "scrolled": false
   },
   "outputs": [],
   "source": [
    "import sys\n",
    "import torch\n",
    "sys.path.append(\"..\")\n",
    "sys.path.append(\"/home/savi/ehsan/Federated-Learning-PyTorch/src\")\n",
    "from federated_learning.helper import utils\n",
    "from utils import get_dataset\n"
   ]
  },
  {
   "cell_type": "code",
   "execution_count": 2,
   "metadata": {},
   "outputs": [],
   "source": [
    "class args_parser():\n",
    "    def __init__(self):\n",
    "        self.dataset = \"mnist\"\n",
    "        self.iid = False\n",
    "        self.unequal = False\n",
    "        self.num_users = 100\n",
    "        self.shards_num = 200\n",
    "        self.shards_per_worker_num = 2"
   ]
  },
  {
   "cell_type": "code",
   "execution_count": 3,
   "metadata": {
    "scrolled": false
   },
   "outputs": [],
   "source": [
    "args = args_parser()\n",
    "# t1 = utils.load_mnist_data_train()\n",
    "# t2, test_dataset, user_groups = get_dataset(args)"
   ]
  },
  {
   "cell_type": "code",
   "execution_count": 24,
   "metadata": {},
   "outputs": [],
   "source": [
    "from torchvision.datasets.vision import VisionDataset"
   ]
  },
  {
   "cell_type": "code",
   "execution_count": 8,
   "metadata": {},
   "outputs": [],
   "source": [
    "sys.path.append('..')\n",
    "from federated_learning.FLNet import FLNet\n",
    "server_model = FLNet().to(\"cpu\")\n",
    "server_model_dict = dict()"
   ]
  },
  {
   "cell_type": "code",
   "execution_count": 22,
   "metadata": {},
   "outputs": [],
   "source": [
    "def print_model(name, model):\n",
    "    for ii, jj in model.named_parameters():\n",
    "        if ii == \"conv1.bias\":\n",
    "            print(\"{}: {}\".format(name, jj.data[:7]))"
   ]
  },
  {
   "cell_type": "code",
   "execution_count": 5,
   "metadata": {},
   "outputs": [
    {
     "name": "stdout",
     "output_type": "stream",
     "text": [
      "['/home/savi/ehsan/FederatedLearning/ipynb', '/usr/lib/python38.zip', '/usr/lib/python3.8', '/usr/lib/python3.8/lib-dynload', '', '/home/savi/ehsan/venv/lib/python3.8/site-packages', '/home/savi/ehsan/venv/src/syft', '/home/savi/ehsan/venv/lib/python3.8/site-packages/IPython/extensions', '/home/savi/.ipython']\n"
     ]
    }
   ],
   "source": [
    "from syft.frameworks.torch.fl.utils import federated_avg\n",
    "federated_avg(server_model)"
   ]
  },
  {
   "cell_type": "code",
   "execution_count": 4,
   "metadata": {},
   "outputs": [
    {
     "ename": "NameError",
     "evalue": "name 'workers' is not defined",
     "output_type": "error",
     "traceback": [
      "\u001b[0;31m---------------------------------------------------------------------------\u001b[0m",
      "\u001b[0;31mNameError\u001b[0m                                 Traceback (most recent call last)",
      "\u001b[0;32m<ipython-input-4-c2495d84c5f2>\u001b[0m in \u001b[0;36m<module>\u001b[0;34m\u001b[0m\n\u001b[1;32m      6\u001b[0m splitted_train_data = utils.split_dataset(\n\u001b[1;32m      7\u001b[0m     sorted_train_data, int(len(sorted_train_data) / args.shards_num))\n\u001b[0;32m----> 8\u001b[0;31m \u001b[0mfederated_train_datasets\u001b[0m \u001b[0;34m=\u001b[0m \u001b[0mutils\u001b[0m\u001b[0;34m.\u001b[0m\u001b[0mmap_shards_to_worker\u001b[0m\u001b[0;34m(\u001b[0m\u001b[0msplitted_train_data\u001b[0m\u001b[0;34m,\u001b[0m \u001b[0mworkers\u001b[0m\u001b[0;34m,\u001b[0m \u001b[0margs\u001b[0m\u001b[0;34m.\u001b[0m\u001b[0mshards_per_worker_num\u001b[0m\u001b[0;34m)\u001b[0m\u001b[0;34m\u001b[0m\u001b[0;34m\u001b[0m\u001b[0m\n\u001b[0m",
      "\u001b[0;31mNameError\u001b[0m: name 'workers' is not defined"
     ]
    }
   ],
   "source": [
    "args = args_parser()\n",
    "\n",
    "train_dataset = utils.load_mnist_data_train()\n",
    "# Now sort the dataset and distribute among users\n",
    "sorted_train_data = utils.sort_mnist_dataset(train_dataset)\n",
    "splitted_train_data = utils.split_dataset(\n",
    "    sorted_train_data, int(len(sorted_train_data) / args.shards_num))\n",
    "federated_train_datasets = utils.map_shards_to_worker(splitted_train_data, workers, args.shards_per_worker_num)"
   ]
  },
  {
   "cell_type": "code",
   "execution_count": null,
   "metadata": {},
   "outputs": [],
   "source": [
    "train_dataset = utils.merge_and_shuffle_dataset([splitted_train_data[0], splitted_train_data[1]])"
   ]
  },
  {
   "cell_type": "code",
   "execution_count": null,
   "metadata": {},
   "outputs": [],
   "source": []
  },
  {
   "cell_type": "code",
   "execution_count": null,
   "metadata": {},
   "outputs": [],
   "source": [
    "torch.Tensor.float(xx[0]).mean()"
   ]
  },
  {
   "cell_type": "code",
   "execution_count": null,
   "metadata": {},
   "outputs": [],
   "source": [
    "print(torch.Tensor.float(t1.data[0]).mean())\n",
    "print(torch.Tensor.float(t2.data[0]).mean())"
   ]
  },
  {
   "cell_type": "code",
   "execution_count": null,
   "metadata": {},
   "outputs": [],
   "source": [
    "import matplotlib.pyplot as plt\n",
    "figure = plt.figure(figsize=(6,6))\n",
    "for i in range(25):\n",
    "    plt.subplot(5, 5, i + 1)\n",
    "    plt.axis(\"off\")\n",
    "    plt.title(t2.targets[i+i*i*95])\n",
    "    plt.imshow(t2.data[i+i*i*95])"
   ]
  },
  {
   "cell_type": "code",
   "execution_count": null,
   "metadata": {},
   "outputs": [],
   "source": [
    "import matplotlib.pyplot as plt\n",
    "figure = plt.figure(figsize=(6,6))\n",
    "for i in range(25):\n",
    "    plt.subplot(5, 5, i + 1)\n",
    "    plt.axis(\"off\")\n",
    "    plt.title(t1.targets[i+i*i*95])\n",
    "    plt.imshow(t1.data[i+i*i*95])"
   ]
  },
  {
   "cell_type": "code",
   "execution_count": null,
   "metadata": {},
   "outputs": [],
   "source": [
    "t1.shuffle()"
   ]
  }
 ],
 "metadata": {
  "kernelspec": {
   "display_name": "venv",
   "language": "python",
   "name": "venv"
  },
  "language_info": {
   "codemirror_mode": {
    "name": "ipython",
    "version": 3
   },
   "file_extension": ".py",
   "mimetype": "text/x-python",
   "name": "python",
   "nbconvert_exporter": "python",
   "pygments_lexer": "ipython3",
   "version": "3.8.5"
  }
 },
 "nbformat": 4,
 "nbformat_minor": 4
}
