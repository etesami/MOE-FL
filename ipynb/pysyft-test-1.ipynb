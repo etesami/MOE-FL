{
 "cells": [
  {
   "cell_type": "code",
   "execution_count": 1,
   "metadata": {},
   "outputs": [],
   "source": [
    "import sys\n",
    "sys.path.append(\"..\")\n",
    "from federated_learning.helper import utils\n",
    "from federated_learning.FLNet import FLNet\n",
    "import torch\n"
   ]
  },
  {
   "cell_type": "code",
   "execution_count": 17,
   "metadata": {},
   "outputs": [
    {
     "name": "stdout",
     "output_type": "stream",
     "text": [
      "140280612179392\n",
      "140277791200976\n",
      "140277791306368\n",
      "140277791307424\n",
      "140277791308048\n",
      "\n",
      "Object: 140277791149760\n",
      "---\n",
      "\n",
      "m2: tensor([-0.0544, -0.1179,  0.0903,  0.0507, -0.0198,  0.0619,  0.1493])\n",
      "\n",
      "\n",
      "Before: tensor([-0.1228,  0.0365,  0.1013, -0.1470,  0.0612, -0.1635,  0.0814])\n",
      "\n",
      "Inside: 140277791149760\n",
      "140280612179392\n",
      "140277791200976\n",
      "140277791306368\n",
      "140277791307424\n",
      "140277791308048\n",
      "\n",
      "After: tensor([ 0.0544,  0.1179, -0.0903, -0.0507,  0.0198, -0.0619, -0.1493])\n",
      "\n"
     ]
    }
   ],
   "source": [
    "import copy\n",
    "model = FLNet().to('cpu')\n",
    "m2 = FLNet().to('cpu')\n",
    "mm = dict()\n",
    "for ii in range(5):\n",
    "    ii_w = \"worker_{}\".format(ii)\n",
    "    mm[ii_w] = copy.deepcopy(model)\n",
    "    print(id(mm[ii_w]))\n",
    "\n",
    "print(\"\")\n",
    "print(\"Object: {}\".format(id(mm)))    \n",
    "print(\"---\")\n",
    "\n",
    "def test_(models, ss):\n",
    "    print(\"Inside: {}\".format(id(models)))\n",
    "    for ii, mm in models.items():\n",
    "        kk = mm\n",
    "        kk.load_state_dict(utils.negative_parameters(ss))\n",
    "        print(id(kk))\n",
    "\n",
    "utils.print_model(\"m2\", m2)\n",
    "utils.print_model(\"Before\", mm['worker_0'])\n",
    "test_(mm, m2.state_dict())\n",
    "utils.print_model(\"After\", mm['worker_0'])"
   ]
  },
  {
   "cell_type": "code",
   "execution_count": 8,
   "metadata": {},
   "outputs": [
    {
     "name": "stdout",
     "output_type": "stream",
     "text": [
      "\n",
      "model: tensor([ 0.0645, -0.1190,  0.0336, -0.0810, -0.0881, -0.1217, -0.1938])\n",
      "\n"
     ]
    }
   ],
   "source": [
    "utils.print_model('model', model)\n",
    "# ss = model.state_dict()\n",
    "aa = utils.negative_parameters(model.state_dict())"
   ]
  },
  {
   "cell_type": "code",
   "execution_count": 10,
   "metadata": {},
   "outputs": [
    {
     "name": "stdout",
     "output_type": "stream",
     "text": [
      "\n",
      "New: tensor([ 0.0166,  0.0261,  0.1727, -0.0657, -0.1804,  0.0308,  0.0728])\n",
      "\n"
     ]
    }
   ],
   "source": [
    "model_new = FLNet().to('cpu')\n",
    "utils.print_model('New', model_new)"
   ]
  },
  {
   "cell_type": "code",
   "execution_count": 11,
   "metadata": {},
   "outputs": [
    {
     "name": "stdout",
     "output_type": "stream",
     "text": [
      "\n",
      "New: tensor([-0.0645,  0.1190, -0.0336,  0.0810,  0.0881,  0.1217,  0.1938])\n",
      "\n"
     ]
    }
   ],
   "source": [
    "model_new.load_state_dict(aa)\n",
    "utils.print_model('New', model_new)"
   ]
  },
  {
   "cell_type": "code",
   "execution_count": null,
   "metadata": {},
   "outputs": [],
   "source": [
    "class test():\n",
    "    def __init__(self, param0=None, param1=None, param2=None):\n",
    "        print(\"param2\", param2)\n",
    "        print(\"param1\", param1)\n",
    "        print(\"param0\", param0)"
   ]
  },
  {
   "cell_type": "code",
   "execution_count": null,
   "metadata": {},
   "outputs": [],
   "source": [
    "aa = test(args)"
   ]
  },
  {
   "cell_type": "code",
   "execution_count": null,
   "metadata": {
    "scrolled": false
   },
   "outputs": [],
   "source": [
    "def test1(parameter, **args):\n",
    "    print(parameter)\n",
    "    print(args.items())\n",
    "    for ii, jj in args.items():\n",
    "        print(ii, jj)"
   ]
  },
  {
   "cell_type": "code",
   "execution_count": null,
   "metadata": {},
   "outputs": [],
   "source": [
    "def test2(parameter, *args):\n",
    "    print(parameter)\n",
    "    print(args)"
   ]
  },
  {
   "cell_type": "code",
   "execution_count": null,
   "metadata": {
    "scrolled": false
   },
   "outputs": [],
   "source": [
    "test1(\"ehsan\", **args)"
   ]
  },
  {
   "cell_type": "code",
   "execution_count": null,
   "metadata": {},
   "outputs": [],
   "source": [
    "test2(\"ehsan\", ['ehsan','etesami', 1234])"
   ]
  },
  {
   "cell_type": "code",
   "execution_count": null,
   "metadata": {},
   "outputs": [],
   "source": [
    "draw_samples(raw_train_data, eavesdroppers_idx[0])"
   ]
  },
  {
   "cell_type": "code",
   "execution_count": null,
   "metadata": {},
   "outputs": [],
   "source": [
    "for ww in list(raw_train_data_new.keys()):\n",
    "    raw_train_data_new[ww] = 0"
   ]
  },
  {
   "cell_type": "code",
   "execution_count": null,
   "metadata": {},
   "outputs": [],
   "source": [
    "gg=dict()\n",
    "gg['f0640_19']=dict()\n",
    "gg['f0640_19']['y'] = raw_train_data['f0640_19']['y']\n",
    "gg['f0640_19']['x'] = kk\n",
    "draw_samples(gg)"
   ]
  },
  {
   "cell_type": "code",
   "execution_count": null,
   "metadata": {},
   "outputs": [],
   "source": [
    "kk.shape"
   ]
  },
  {
   "cell_type": "code",
   "execution_count": null,
   "metadata": {},
   "outputs": [],
   "source": [
    "raw_train_data.keys()"
   ]
  },
  {
   "cell_type": "code",
   "execution_count": null,
   "metadata": {},
   "outputs": [],
   "source": [
    "# type(fl.workers['f0557_33'])\n",
    "cc = torch.utils.data.DataLoader(bb, batch_size=len(bb))\n",
    "# bb.federate([fl.workers['f0557_33']])"
   ]
  },
  {
   "cell_type": "code",
   "execution_count": null,
   "metadata": {},
   "outputs": [],
   "source": [
    "img = torch.rand(784, dtype=float32)\n",
    "img = img.reshape(1, 1, 28, 28)\n",
    "img.shape\n",
    "ff = FLNetComplex().to(torch.device('cpu'))\n",
    "ff(img)"
   ]
  },
  {
   "cell_type": "code",
   "execution_count": null,
   "metadata": {},
   "outputs": [],
   "source": [
    "fed_train_dataloader = fl.create_femnist_server_train_dataloader(\n",
    "    train_dataset, configs['runtime']['server_w0_batch_size'])\n",
    "\n",
    "# Create test dataloader from all normal and eveasdroppers\n",
    "# fed_test_dataloader = fl.create_femnist_server_test_dataloader(raw_test_data, workers_idx_to_be_used)"
   ]
  },
  {
   "cell_type": "code",
   "execution_count": null,
   "metadata": {},
   "outputs": [],
   "source": [
    "# Create test dataloader from all normal and eveasdroppers\n",
    "fed_test_dataloader = fl.create_femnist_server_test_dataloader(raw_test_data, workers_idx_to_be_used)"
   ]
  },
  {
   "cell_type": "code",
   "execution_count": null,
   "metadata": {},
   "outputs": [],
   "source": [
    "print(len(raw_train_data), len(raw_test_data))"
   ]
  },
  {
   "cell_type": "code",
   "execution_count": null,
   "metadata": {},
   "outputs": [],
   "source": [
    "len(eavesdroppers_idx)"
   ]
  },
  {
   "cell_type": "code",
   "execution_count": null,
   "metadata": {},
   "outputs": [],
   "source": [
    "len(workers_idx_all)"
   ]
  },
  {
   "cell_type": "code",
   "execution_count": null,
   "metadata": {},
   "outputs": [],
   "source": [
    "for n, (a, b) in enumerate(test_dataloader):\n",
    "    print(\"{}: {}, {}\".format(n, a.shape, b.shape))"
   ]
  },
  {
   "cell_type": "code",
   "execution_count": null,
   "metadata": {
    "scrolled": false
   },
   "outputs": [],
   "source": [
    "utils.dataset_info(raw_train_data)\n",
    "print()\n",
    "utils.dataset_info(raw_test_data)"
   ]
  },
  {
   "cell_type": "code",
   "execution_count": null,
   "metadata": {},
   "outputs": [],
   "source": [
    "flattened_data_x, flattened_data_y = utils.get_flattened_data(raw_test_data)"
   ]
  },
  {
   "cell_type": "code",
   "execution_count": null,
   "metadata": {},
   "outputs": [],
   "source": [
    "import matplotlib.pyplot as plt\n",
    "def draw_samples(data):\n",
    "    list_keys = list(data.keys())\n",
    "    data_np = dict()\n",
    "    data_np['x'] = np.array(data[list_keys[0]]['x'], dtype = np.float32).reshape(-1, 28, 28)\n",
    "    data_np['y'] = np.array(data[list_keys[0]]['y'], dtype = np.int64).reshape(-1, 1)\n",
    "    figure = plt.figure(figsize=(8,8))\n",
    "    for i in range(36):\n",
    "        plt.subplot(6, 6, i + 1)\n",
    "        plt.axis(\"off\")\n",
    "        plt.title(data_np['y'][i])\n",
    "        plt.imshow(data_np['x'][i], cmap='gray')\n",
    "        \n",
    "draw_samples(raw_test_data)"
   ]
  },
  {
   "cell_type": "code",
   "execution_count": null,
   "metadata": {},
   "outputs": [],
   "source": [
    "ww = [\"worker_\" + str(i) for i in range(20)]"
   ]
  },
  {
   "cell_type": "code",
   "execution_count": null,
   "metadata": {},
   "outputs": [],
   "source": [
    "atk = utils.get_workers_idx(workers_idx, 5, [])"
   ]
  },
  {
   "cell_type": "code",
   "execution_count": null,
   "metadata": {},
   "outputs": [],
   "source": [
    "atk"
   ]
  },
  {
   "cell_type": "code",
   "execution_count": null,
   "metadata": {},
   "outputs": [],
   "source": [
    "bb = [ii for ii in ww if ii in atk]"
   ]
  },
  {
   "cell_type": "code",
   "execution_count": null,
   "metadata": {},
   "outputs": [],
   "source": [
    "bb"
   ]
  },
  {
   "cell_type": "code",
   "execution_count": null,
   "metadata": {},
   "outputs": [],
   "source": [
    "aa = [ii if ii in atk else 0 for ii in ww]"
   ]
  },
  {
   "cell_type": "code",
   "execution_count": null,
   "metadata": {},
   "outputs": [],
   "source": [
    "d = [n for n in aa if n]"
   ]
  },
  {
   "cell_type": "code",
   "execution_count": null,
   "metadata": {},
   "outputs": [],
   "source": [
    "d"
   ]
  },
  {
   "cell_type": "code",
   "execution_count": null,
   "metadata": {},
   "outputs": [],
   "source": []
  }
 ],
 "metadata": {
  "kernelspec": {
   "display_name": "venv",
   "language": "python",
   "name": "venv"
  },
  "language_info": {
   "codemirror_mode": {
    "name": "ipython",
    "version": 3
   },
   "file_extension": ".py",
   "mimetype": "text/x-python",
   "name": "python",
   "nbconvert_exporter": "python",
   "pygments_lexer": "ipython3",
   "version": "3.8.5"
  }
 },
 "nbformat": 4,
 "nbformat_minor": 4
}
