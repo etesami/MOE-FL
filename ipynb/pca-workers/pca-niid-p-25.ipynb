{
 "cells": [
  {
   "cell_type": "code",
   "execution_count": 1,
   "metadata": {},
   "outputs": [],
   "source": [
    "import random\n",
    "import numpy as np\n",
    "import matplotlib.pyplot as plt\n",
    "import torch\n",
    "import ast\n",
    "import linecache \n",
    "import sys\n",
    "import pickle\n",
    "sys.path.append(\"../..\")\n",
    "from federated_learning.helper import utils"
   ]
  },
  {
   "cell_type": "code",
   "execution_count": 2,
   "metadata": {},
   "outputs": [],
   "source": [
    "def get_all_params_flattend(model_state):\n",
    "    params = np.array([], dtype=np.float32)\n",
    "    for ll_name, ll_data in model_state.items():\n",
    "        params = np.concatenate((params, ll_data.reshape(-1)))\n",
    "#     with torch.no_grad():\n",
    "#         params = np.concatenate((params, model.conv1.weight.data.reshape(-1)))\n",
    "#         params = np.concatenate((params, model.conv1.bias.data.reshape(-1)))\n",
    "#         params = np.concatenate((params, model.conv2.weight.data.reshape(-1)))\n",
    "#         params = np.concatenate((params, model.conv2.bias.data.reshape(-1)))\n",
    "#         params = np.concatenate((params, model.fc1.weight.data.reshape(-1)))\n",
    "#         params = np.concatenate((params, model.fc1.bias.data.reshape(-1)))\n",
    "#         params = np.concatenate((params, model.fc2.weight.data.reshape(-1)))\n",
    "#         params = np.concatenate((params, model.fc2.bias.data.reshape(-1)))\n",
    "    return params\n",
    "\n",
    "# from sklearn.preprocessing import StandardScaler\n",
    "# def standardization(all_params):\n",
    "#     all_params = StandardScaler().fit_transform(all_params)\n",
    "#     return all_params\n",
    "\n",
    "# from sklearn.preprocessing import MinMaxScaler\n",
    "# def normalization(all_params):\n",
    "#     norm = MinMaxScaler().fit_transform(all_params)\n",
    "#     return all_params\n",
    "\n",
    "from sklearn.decomposition import PCA\n",
    "def draw_pca_model(params_list, colors, title):\n",
    "    pca = PCA(n_components=2)\n",
    "    proj = pca.fit_transform(params_list)\n",
    "    figure = plt.figure(figsize=(18, 8))\n",
    "    plt.title(title)\n",
    "    plt.scatter(proj[:, 0], proj[:,1], c = colors, cmap=\"rainbow\") #gist_rainbow\n",
    "    for ii in range(len(proj)):\n",
    "        label = ii if ii == len(proj) - 1 else ii\n",
    "        plt.annotate(label, (proj[ii, 0], proj[ii, 1]), textcoords=\"offset points\", xytext=(5+random.random(),5+random.random()))\n",
    "#     plt.scatter(proj[:, 0], proj[:,1], c = colors, cmap=\"rainbow\") #gist_rainbow\n",
    "#     plt.annotate(\"W0\", (proj[len(proj) - 2, 0], proj[len(proj) - 2, 1]), textcoords=\"offset points\", xytext=(5,5))\n",
    "#     plt.annotate(\"weighted_avg\", (proj[len(proj) - 1, 0], proj[len(proj) - 1, 1]), textcoords=\"offset points\", xytext=(5,5))\n",
    "    plt.colorbar(ticks=range(len(params_list)))"
   ]
  },
  {
   "cell_type": "code",
   "execution_count": 3,
   "metadata": {
    "scrolled": false
   },
   "outputs": [
    {
     "data": {
      "image/png": "[encoded data removed]",
      "text/plain": [
       "<Figure size 1296x576 with 2 Axes>"
      ]
     },
     "metadata": {
      "needs_background": "light"
     },
     "output_type": "display_data"
    }
   ],
   "source": [
    "round_no = 0\n",
    "type_name = \"niid_p\"\n",
    "\n",
    "log_path = \"../../data_output/20210220_224535_moe_atk1_niid_SAN_465\"\n",
    "\n",
    "all_params = np.array([], dtype=np.float32).reshape(-1, 431570) \n",
    "# 431570 is the nmber of all params in a model\n",
    "\n",
    "line = linecache.getline(\"{}/{}\".format(log_path, \"selected_workers_pca\"), round_no + 1)\n",
    "selected_workers = ast.literal_eval(line[line.index('['):])\n",
    "\n",
    "attackers_idx = utils.load_object(log_path, \"attackers\")\n",
    "attackers_num = len(attackers_idx)\n",
    "workers_idx = [\"worker_{}\".format(ii) for ii in range(100)]\n",
    "normal_idx = set(workers_idx) - set(attackers_idx)\n",
    "\n",
    "color_map = []\n",
    "for ww in selected_workers:\n",
    "    if ww in attackers_idx:\n",
    "        color_map.append(1.0)\n",
    "    elif ww in normal_idx:\n",
    "        color_map.append(0)\n",
    "\n",
    "all_params = np.array([], dtype=np.float32).reshape(-1, 431080) \n",
    "# 431080 is the nmber of all params in a model\n",
    "for ww in selected_workers:\n",
    "    model_path = \"{}/models/{}_{}_{}_R{}\".format(log_path, type_name, ww, attackers_num, round_no)\n",
    "    params = get_all_params_flattend(torch.load(model_path)).reshape(1, -1)\n",
    "    all_params = np.concatenate((all_params, params))\n",
    "\n",
    "# all_params = normalization(all_params)\n",
    "draw_pca_model(all_params, color_map, \"Round {}\".format(round_no))\n",
    "\n"
   ]
  },
  {
   "cell_type": "code",
   "execution_count": null,
   "metadata": {},
   "outputs": [],
   "source": []
  }
 ],
 "metadata": {
  "kernelspec": {
   "display_name": "Python 3",
   "language": "python",
   "name": "python3"
  },
  "language_info": {
   "codemirror_mode": {
    "name": "ipython",
    "version": 3
   },
   "file_extension": ".py",
   "mimetype": "text/x-python",
   "name": "python",
   "nbconvert_exporter": "python",
   "pygments_lexer": "ipython3",
   "version": "3.8.5"
  }
 },
 "nbformat": 4,
 "nbformat_minor": 4
}
