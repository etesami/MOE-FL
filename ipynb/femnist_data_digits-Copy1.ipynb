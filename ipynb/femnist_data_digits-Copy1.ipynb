{
 "cells": [
  {
   "cell_type": "code",
   "execution_count": 1,
   "metadata": {},
   "outputs": [
    {
     "name": "stderr",
     "output_type": "stream",
     "text": [
      "Falling back to insecure randomness since the required custom op could not be found for the installed version of TensorFlow. Fix this by compiling custom ops. Missing file was '/home/ubuntu/.local/lib/python3.6/site-packages/tf_encrypted/operations/secure_random/secure_random_module_tf_1.15.3.so'\n"
     ]
    },
    {
     "name": "stdout",
     "output_type": "stream",
     "text": [
      "WARNING:tensorflow:From /home/ubuntu/.local/lib/python3.6/site-packages/tf_encrypted/session.py:24: The name tf.Session is deprecated. Please use tf.compat.v1.Session instead.\n",
      "\n"
     ]
    }
   ],
   "source": [
    "import sys\n",
    "sys.path.append(\"..\")\n",
    "import logging\n",
    "import random\n",
    "import neptune\n",
    "import numpy as np\n",
    "from time import strftime\n",
    "from federated_learning.FederatedLearning import FederatedLearning\n",
    "from federated_learning.helper import utils\n",
    "\n",
    "CONFIG_PATH = '../configs/defaults.yml'\n"
   ]
  },
  {
   "cell_type": "code",
   "execution_count": 2,
   "metadata": {},
   "outputs": [
    {
     "name": "stderr",
     "output_type": "stream",
     "text": [
      "2020-11-12 08:20:42,439 Initializing Federated Learning class...\n",
      "2020-11-12 08:20:43,226 Creating the server...\n",
      "2020-11-12 08:20:43,228 Creating a model for the server...\n",
      "2020-11-12 08:20:43,238 Loading train dataset from /home/ubuntu/data/leaf_non_iid/data/femnist/data\n",
      "2020-11-12 08:20:43,239 Loading 1 out of 2 files...\n",
      "2020-11-12 08:20:49,030 Loading 2 out of 2 files...\n",
      "2020-11-12 08:20:55,273 Start processing of femnist data...\n"
     ]
    }
   ],
   "source": [
    "configs = utils.load_config(CONFIG_PATH)\n",
    "logging.basicConfig(format='%(asctime)s %(message)s', level=configs['log']['level'])\n",
    "random.seed(configs['runtime']['random_seed'])\n",
    "\n",
    "# From command line\n",
    "epochs_num = 1\n",
    "rounds_num = 1\n",
    "log_enable = False\n",
    "output_dir = None\n",
    "neptune_enable = False\n",
    "\n",
    "fl = FederatedLearning(\n",
    "    configs['runtime']['server_w0_batch_size'], \n",
    "    configs['runtime']['test_batch_size'], \n",
    "    configs['runtime']['lr'], \n",
    "    0.0,\n",
    "    configs['runtime']['momentum'], \n",
    "    neptune_enable, log_enable, \n",
    "    configs['log']['interval'], \n",
    "    output_dir, \n",
    "    configs['runtime']['random_seed'])\n",
    "\n",
    "fl.create_server()\n",
    "fl.create_server_model()\n",
    "\n",
    "raw_data = utils.preprocess_leaf_data(\n",
    "    utils.load_leaf_train(configs['data']['FEMNIST_PATH']),\n",
    "    min_num_samples=100,only_digits=True)\n"
   ]
  },
  {
   "cell_type": "code",
   "execution_count": 3,
   "metadata": {},
   "outputs": [
    {
     "name": "stderr",
     "output_type": "stream",
     "text": [
      "2020-11-12 08:20:57,093 Select data from only 50 workers to be used...\n",
      "2020-11-12 08:20:57,095 50\n",
      "2020-11-12 08:20:57,096 Creating the server data from 50 selected users...\n",
      "2020-11-12 08:20:57,128 Selected (1602, 28, 28) samples in total for the server from 50 users.\n",
      "2020-11-12 08:20:57,130 Creating federated server dataloader...\n",
      "2020-11-12 08:20:57,138 Scanning and sending data to server...\n"
     ]
    }
   ],
   "source": [
    "\n",
    "\n",
    "logging.info(\"Select data from only {} workers to be used...\".format(configs['runtime']['femnist_total_users_num']))\n",
    "workers_idx = list(raw_data.keys())[:configs['runtime']['femnist_total_users_num']]\n",
    "logging.info(len(workers_idx))\n",
    "\n",
    "server_train_images, server_train_labels = fl.create_server_femnist_dataset(\n",
    "    raw_data, workers_idx, configs['runtime']['public_data_percentage'])\n",
    "server_federated_train_dataloader = fl.create_federated_server_leaf_dataloader(\n",
    "    server_train_images, server_train_labels, configs['runtime']['batch_size'], True)\n",
    "\n",
    "\n",
    "\n"
   ]
  },
  {
   "cell_type": "code",
   "execution_count": 4,
   "metadata": {},
   "outputs": [
    {
     "name": "stderr",
     "output_type": "stream",
     "text": [
      "2020-11-12 08:20:57,229 Loading test dataset from /home/ubuntu/data/leaf_non_iid/data/femnist/data\n",
      "2020-11-12 08:20:57,231 Loading 1 out of 35 files...\n",
      "2020-11-12 08:20:57,750 Loading 2 out of 35 files...\n",
      "2020-11-12 08:20:58,228 Loading 3 out of 35 files...\n",
      "2020-11-12 08:20:58,611 Loading 4 out of 35 files...\n",
      "2020-11-12 08:20:59,185 Loading 5 out of 35 files...\n",
      "2020-11-12 08:20:59,726 Loading 6 out of 35 files...\n",
      "2020-11-12 08:20:59,966 Loading 7 out of 35 files...\n",
      "2020-11-12 08:21:00,231 Loading 8 out of 35 files...\n",
      "2020-11-12 08:21:00,490 Loading 9 out of 35 files...\n",
      "2020-11-12 08:21:00,877 Loading 10 out of 35 files...\n",
      "2020-11-12 08:21:01,127 Loading 11 out of 35 files...\n",
      "2020-11-12 08:21:01,660 Loading 12 out of 35 files...\n",
      "2020-11-12 08:21:02,093 Loading 13 out of 35 files...\n",
      "2020-11-12 08:21:02,431 Loading 14 out of 35 files...\n",
      "2020-11-12 08:21:02,649 Loading 15 out of 35 files...\n",
      "2020-11-12 08:21:03,266 Loading 16 out of 35 files...\n",
      "2020-11-12 08:21:03,523 Loading 17 out of 35 files...\n",
      "2020-11-12 08:21:03,827 Loading 18 out of 35 files...\n",
      "2020-11-12 08:21:04,208 Loading 19 out of 35 files...\n",
      "2020-11-12 08:21:04,474 Loading 20 out of 35 files...\n",
      "2020-11-12 08:21:05,119 Loading 21 out of 35 files...\n",
      "2020-11-12 08:21:05,393 Loading 22 out of 35 files...\n",
      "2020-11-12 08:21:05,618 Loading 23 out of 35 files...\n",
      "2020-11-12 08:21:05,873 Loading 24 out of 35 files...\n",
      "2020-11-12 08:21:06,856 Loading 25 out of 35 files...\n",
      "2020-11-12 08:21:07,075 Loading 26 out of 35 files...\n",
      "2020-11-12 08:21:07,362 Loading 27 out of 35 files...\n",
      "2020-11-12 08:21:07,625 Loading 28 out of 35 files...\n",
      "2020-11-12 08:21:08,115 Loading 29 out of 35 files...\n",
      "2020-11-12 08:21:08,402 Loading 30 out of 35 files...\n",
      "2020-11-12 08:21:08,977 Loading 31 out of 35 files...\n",
      "2020-11-12 08:21:09,261 Loading 32 out of 35 files...\n",
      "2020-11-12 08:21:09,805 Loading 33 out of 35 files...\n",
      "2020-11-12 08:21:10,060 Loading 34 out of 35 files...\n",
      "2020-11-12 08:21:10,390 Loading 35 out of 35 files...\n",
      "2020-11-12 08:21:10,779 Start processing of femnist data...\n",
      "2020-11-12 08:21:14,876 Creating the server data from 50 selected users...\n",
      "2020-11-12 08:21:14,897 Selected (585, 28, 28) samples in total for the server from 50 users.\n",
      "2020-11-12 08:21:14,898 Creating federated server dataloader...\n",
      "2020-11-12 08:21:14,905 Scanning and sending data to server...\n"
     ]
    }
   ],
   "source": [
    "test_raw_data = utils.preprocess_leaf_data(\n",
    "    utils.load_leaf_test(configs['data']['FEMNIST_PATH']),\n",
    "    min_num_samples=0,only_digits=True)\n",
    "server_test_images, server_test_labels = fl.create_server_femnist_dataset(\n",
    "    test_raw_data, workers_idx, 100)\n",
    "\n",
    "server_federated_test_dataloader = fl.create_federated_server_leaf_dataloader(\n",
    "    server_test_images, server_test_labels, configs['runtime']['test_batch_size'], True)"
   ]
  },
  {
   "cell_type": "code",
   "execution_count": 6,
   "metadata": {},
   "outputs": [
    {
     "data": {
      "text/plain": [
       "585"
      ]
     },
     "execution_count": 6,
     "metadata": {},
     "output_type": "execute_result"
    }
   ],
   "source": [
    "len(server_test_labels)"
   ]
  },
  {
   "cell_type": "code",
   "execution_count": null,
   "metadata": {},
   "outputs": [],
   "source": []
  }
 ],
 "metadata": {
  "kernelspec": {
   "display_name": "Python 3",
   "language": "python",
   "name": "python3"
  },
  "language_info": {
   "codemirror_mode": {
    "name": "ipython",
    "version": 3
   },
   "file_extension": ".py",
   "mimetype": "text/x-python",
   "name": "python",
   "nbconvert_exporter": "python",
   "pygments_lexer": "ipython3",
   "version": "3.6.9"
  }
 },
 "nbformat": 4,
 "nbformat_minor": 4
}
